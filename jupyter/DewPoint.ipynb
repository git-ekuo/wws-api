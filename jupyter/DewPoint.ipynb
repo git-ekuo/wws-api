{
 "cells": [
  {
   "cell_type": "code",
   "execution_count": null,
   "metadata": {},
   "outputs": [],
   "source": [
    "import cdsapi\n",
    "import os\n",
    "\n",
    "c = cdsapi.Client()\n",
    "\n",
    "years = list(range(2010,2019))\n",
    "\n",
    "for y in years:\n",
    "    for m in range(1,13):\n",
    "        \n",
    "        var = '2m_dewpoint_temperature'\n",
    "        filename = '%s_%d_%02d_era5.grb'%(var,y,m)\n",
    "        \n",
    "        directory = str(y)\n",
    "        if not os.path.exists(directory):\n",
    "            os.makedirs(directory)\n",
    "\n",
    "        filelist = [file for file in os.listdir(directory) if file.endswith('.grb')]\n",
    "        \n",
    "        if filename not in filelist:\n",
    "        \n",
    "            print('year: %d month:%d'%(y,m))        \n",
    "\n",
    "            c.retrieve(\n",
    "                'reanalysis-era5-single-levels',\n",
    "                {\n",
    "                    'variable':var,\n",
    "                    'product_type':'reanalysis',\n",
    "                    'year':str(y),\n",
    "                    'month':['%02d'%m],\n",
    "                    'day':[\n",
    "                        '01','02','03',\n",
    "                        '04','05','06',\n",
    "                        '07','08','09',\n",
    "                        '10','11','12',\n",
    "                        '13','14','15',\n",
    "                        '16','17','18',\n",
    "                        '19','20','21',\n",
    "                        '22','23','24',\n",
    "                        '25','26','27',\n",
    "                        '28','29','30',\n",
    "                        '31'\n",
    "                    ],\n",
    "                    'time':[\n",
    "                        '00:00','01:00','02:00',\n",
    "                        '03:00','04:00','05:00',\n",
    "                        '06:00','07:00','08:00',\n",
    "                        '09:00','10:00','11:00',\n",
    "                        '12:00','13:00','14:00',\n",
    "                        '15:00','16:00','17:00',\n",
    "                        '18:00','19:00','20:00',\n",
    "                        '21:00','22:00','23:00'\n",
    "                    ],\n",
    "                    'format':'grib'\n",
    "                },\n",
    "                os.path.join(str(y),filename)\n",
    "                )"
   ]
  },
  {
   "cell_type": "code",
   "execution_count": null,
   "metadata": {},
   "outputs": [],
   "source": []
  }
 ],
 "metadata": {
  "kernelspec": {
   "display_name": "Python 3",
   "language": "python",
   "name": "python3"
  },
  "language_info": {
   "codemirror_mode": {
    "name": "ipython",
    "version": 3
   },
   "file_extension": ".py",
   "mimetype": "text/x-python",
   "name": "python",
   "nbconvert_exporter": "python",
   "pygments_lexer": "ipython3",
   "version": "3.6.4"
  }
 },
 "nbformat": 4,
 "nbformat_minor": 2
}
