{
 "cells": [
  {
   "cell_type": "code",
   "execution_count": 245,
   "metadata": {
    "collapsed": true
   },
   "outputs": [],
   "source": [
    "import xarray as xr\n",
    "ds = xr.open_dataset('data/2m_dewpoint_temperature_2010_01_era5.nc', cache=False)"
   ]
  },
  {
   "cell_type": "code",
   "execution_count": 246,
   "metadata": {
    "collapsed": false
   },
   "outputs": [
    {
     "data": {
      "text/plain": [
       "<xarray.Dataset>\nDimensions:    (latitude: 721, longitude: 1440, time: 744)\nCoordinates:\n  * longitude  (longitude) float32 0.0 0.25 0.5 0.75 1.0 1.25 1.5 1.75 2.0 ...\n  * latitude   (latitude) float32 90.0 89.75 89.5 89.25 89.0 88.75 88.5 ...\n  * time       (time) datetime64[ns] 2010-01-01 2010-01-01T01:00:00 ...\nData variables:\n    d2m        (time, latitude, longitude) float32 ...\nAttributes:\n    Conventions:  CF-1.6\n    history:      2018-10-16 14:54:35 GMT by grib_to_netcdf-2.7.0: /opt/ecmwf..."
      ]
     },
     "execution_count": 246,
     "metadata": {},
     "output_type": "execute_result"
    }
   ],
   "source": [
    "ds"
   ]
  },
  {
   "cell_type": "code",
   "execution_count": 247,
   "metadata": {
    "collapsed": false
   },
   "outputs": [],
   "source": [
    "#da = ds.sel(Y=49.875, T=-773.5)\n",
    "da = ds.longitude[ds.longitude.size-1]\n",
    "da = ds.sel(longitude=50, latitude=50)"
   ]
  },
  {
   "cell_type": "code",
   "execution_count": 249,
   "metadata": {
    "collapsed": true
   },
   "outputs": [
    {
     "data": {
      "text/plain": [
       "{'chunksizes': None,\n 'complevel': 0,\n 'contiguous': True,\n 'dtype': dtype('float32'),\n 'fletcher32': False,\n 'original_shape': (1440,),\n 'shuffle': False,\n 'source': '/Users/tedkuo/home-energy/data/2m_dewpoint_temperature_2010_01_era5.nc',\n 'zlib': False}"
      ]
     },
     "execution_count": 249,
     "metadata": {},
     "output_type": "execute_result"
    }
   ],
   "source": [
    "da.longitude.encoding\n"
   ]
  },
  {
   "cell_type": "code",
   "execution_count": 128,
   "metadata": {
    "collapsed": false
   },
   "outputs": [
    {
     "data": {
      "text/plain": [
       "<xarray.DataArray 'd2m' (time: 744)>\narray([20882, 20616, 20362, ..., 20656, 20180, 20174], dtype=int16)\nCoordinates:\n    longitude  float32 50.0\n    latitude   float32 30.0\n  * time       (time) int32 964248 964249 964250 964251 964252 964253 964254 ...\nAttributes:\n    scale_factor:   0.001405295518306378\n    add_offset:     257.33949205438927\n    _FillValue:     -32767\n    missing_value:  -32767\n    units:          K\n    long_name:      2 metre dewpoint temperature"
      ]
     },
     "execution_count": 128,
     "metadata": {},
     "output_type": "execute_result"
    }
   ],
   "source": [
    "da['d2m']"
   ]
  },
  {
   "cell_type": "code",
   "execution_count": 129,
   "metadata": {},
   "outputs": [
    {
     "data": {
      "text/plain": [
       "1.453125"
      ]
     },
     "execution_count": 129,
     "metadata": {},
     "output_type": "execute_result"
    }
   ],
   "source": [
    "da['d2m'].nbytes / 1024"
   ]
  },
  {
   "cell_type": "code",
   "execution_count": null,
   "metadata": {},
   "outputs": [],
   "source": []
  }
 ],
 "metadata": {
  "kernelspec": {
   "display_name": "Python 3",
   "language": "python",
   "name": "python3"
  },
  "language_info": {
   "codemirror_mode": {
    "name": "ipython",
    "version": 3
   },
   "file_extension": ".py",
   "mimetype": "text/x-python",
   "name": "python",
   "nbconvert_exporter": "python",
   "pygments_lexer": "ipython3",
   "version": "3.6.4"
  }
 },
 "nbformat": 4,
 "nbformat_minor": 2
}
