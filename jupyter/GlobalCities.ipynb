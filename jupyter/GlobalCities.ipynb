{
 "cells": [
  {
   "cell_type": "code",
   "execution_count": 123,
   "metadata": {},
   "outputs": [],
   "source": [
    "import pandas as pd\n",
    "import os\n",
    "\n",
    "\n",
    "def get_cities():\n",
    "    '''\n",
    "    Function to get list of about 7000 cities in the world for the dropdown selection\n",
    "    Source: https://simplemaps.com/data/world-cities\n",
    "    '''\n",
    "    cities = pd.read_csv(os.path.join('data','simplemaps-worldcities-basic.csv'))\n",
    "    cities['loc'] = cities['city'] + ', ' + cities['country']\n",
    "    city_options = [{'label': city, 'value': index} for city, index in zip(cities['loc'], cities.index)]\n",
    "    \n",
    "    return city_options, cities\n",
    "\n",
    "\n",
    "def get_ISD():\n",
    "    # Weather Station location from ISD (WBAN Stations)\n",
    "    filename = os.path.join('data','isd-history.txt')\n",
    "    width = [8,6,30,5,3,6,8,9,8,9,8]\n",
    "    station_data = pd.read_fwf(filename,colspecs='infer',width=width,skiprows=21)\n",
    "    station_data.columns = ['USAF','WBAN', 'STATION NAME', 'CTRY','ST','LAT','LON','ELEV','BEG','END']\n",
    "\n",
    "    station_data = station_data[station_data['CTRY'].notnull()]\n",
    "    station_data = station_data[station_data['LAT'].notnull()]\n",
    "    station_data = station_data[station_data['END'] > 20180820]\n",
    "    station_data = station_data[station_data['BEG'] < 20170000]\n",
    "    \n",
    "    return station_data"
   ]
  },
  {
   "cell_type": "code",
   "execution_count": 124,
   "metadata": {},
   "outputs": [],
   "source": [
    "cities, citylist = get_cities()"
   ]
  },
  {
   "cell_type": "markdown",
   "metadata": {},
   "source": [
    "citylist.sort_values('pop',ascending=False)"
   ]
  },
  {
   "cell_type": "code",
   "execution_count": 52,
   "metadata": {},
   "outputs": [
    {
     "data": {
      "text/html": [
       "<div>\n",
       "<style scoped>\n",
       "    .dataframe tbody tr th:only-of-type {\n",
       "        vertical-align: middle;\n",
       "    }\n",
       "\n",
       "    .dataframe tbody tr th {\n",
       "        vertical-align: top;\n",
       "    }\n",
       "\n",
       "    .dataframe thead th {\n",
       "        text-align: right;\n",
       "    }\n",
       "</style>\n",
       "<table border=\"1\" class=\"dataframe\">\n",
       "  <thead>\n",
       "    <tr style=\"text-align: right;\">\n",
       "      <th></th>\n",
       "      <th>USAF</th>\n",
       "      <th>WBAN</th>\n",
       "      <th>STATION NAME</th>\n",
       "      <th>CTRY</th>\n",
       "      <th>ST</th>\n",
       "      <th>LAT</th>\n",
       "      <th>LON</th>\n",
       "      <th>ELEV</th>\n",
       "      <th>BEG</th>\n",
       "      <th>END</th>\n",
       "    </tr>\n",
       "  </thead>\n",
       "  <tbody>\n",
       "    <tr>\n",
       "      <th>29565</th>\n",
       "      <td>A07355</td>\n",
       "      <td>241</td>\n",
       "      <td>VIROQUA MUNICIPAL AIRPO</td>\n",
       "      <td>US</td>\n",
       "      <td>KY51</td>\n",
       "      <td>43.579</td>\n",
       "      <td>-90.913</td>\n",
       "      <td>394.1</td>\n",
       "      <td>20140731</td>\n",
       "      <td>20180822</td>\n",
       "    </tr>\n",
       "    <tr>\n",
       "      <th>29566</th>\n",
       "      <td>A07357</td>\n",
       "      <td>182</td>\n",
       "      <td>ELBOW LAKE MUNICIPAL PR</td>\n",
       "      <td>US</td>\n",
       "      <td>KY63</td>\n",
       "      <td>45.986</td>\n",
       "      <td>-95.992</td>\n",
       "      <td>367.3</td>\n",
       "      <td>20140731</td>\n",
       "      <td>20180822</td>\n",
       "    </tr>\n",
       "    <tr>\n",
       "      <th>29567</th>\n",
       "      <td>A07359</td>\n",
       "      <td>240</td>\n",
       "      <td>IONIA COUNTY AIRPORT</td>\n",
       "      <td>US</td>\n",
       "      <td>KY70</td>\n",
       "      <td>42.938</td>\n",
       "      <td>-85.061</td>\n",
       "      <td>249.0</td>\n",
       "      <td>20140731</td>\n",
       "      <td>20180822</td>\n",
       "    </tr>\n",
       "    <tr>\n",
       "      <th>29568</th>\n",
       "      <td>A51255</td>\n",
       "      <td>445</td>\n",
       "      <td>DEMOPOLIS MUNICIPAL AIR</td>\n",
       "      <td>US</td>\n",
       "      <td>KDYA</td>\n",
       "      <td>32.464</td>\n",
       "      <td>-87.954</td>\n",
       "      <td>34.1</td>\n",
       "      <td>20140731</td>\n",
       "      <td>20180822</td>\n",
       "    </tr>\n",
       "    <tr>\n",
       "      <th>29569</th>\n",
       "      <td>A51256</td>\n",
       "      <td>451</td>\n",
       "      <td>BRANSON WEST MUNICIPAL</td>\n",
       "      <td>US</td>\n",
       "      <td>KFWB</td>\n",
       "      <td>36.699</td>\n",
       "      <td>-93.402</td>\n",
       "      <td>411.2</td>\n",
       "      <td>20140731</td>\n",
       "      <td>20180822</td>\n",
       "    </tr>\n",
       "  </tbody>\n",
       "</table>\n",
       "</div>"
      ],
      "text/plain": [
       "         USAF  WBAN             STATION NAME CTRY    ST     LAT     LON  \\\n",
       "29565  A07355   241  VIROQUA MUNICIPAL AIRPO   US  KY51  43.579 -90.913   \n",
       "29566  A07357   182  ELBOW LAKE MUNICIPAL PR   US  KY63  45.986 -95.992   \n",
       "29567  A07359   240     IONIA COUNTY AIRPORT   US  KY70  42.938 -85.061   \n",
       "29568  A51255   445  DEMOPOLIS MUNICIPAL AIR   US  KDYA  32.464 -87.954   \n",
       "29569  A51256   451   BRANSON WEST MUNICIPAL   US  KFWB  36.699 -93.402   \n",
       "\n",
       "        ELEV       BEG       END  \n",
       "29565  394.1  20140731  20180822  \n",
       "29566  367.3  20140731  20180822  \n",
       "29567  249.0  20140731  20180822  \n",
       "29568   34.1  20140731  20180822  \n",
       "29569  411.2  20140731  20180822  "
      ]
     },
     "execution_count": 52,
     "metadata": {},
     "output_type": "execute_result"
    }
   ],
   "source": [
    "station_data.tail()"
   ]
  },
  {
   "cell_type": "code",
   "execution_count": 13,
   "metadata": {},
   "outputs": [
    {
     "data": {
      "text/html": [
       "<div>\n",
       "<style scoped>\n",
       "    .dataframe tbody tr th:only-of-type {\n",
       "        vertical-align: middle;\n",
       "    }\n",
       "\n",
       "    .dataframe tbody tr th {\n",
       "        vertical-align: top;\n",
       "    }\n",
       "\n",
       "    .dataframe thead th {\n",
       "        text-align: right;\n",
       "    }\n",
       "</style>\n",
       "<table border=\"1\" class=\"dataframe\">\n",
       "  <thead>\n",
       "    <tr style=\"text-align: right;\">\n",
       "      <th></th>\n",
       "      <th>city</th>\n",
       "      <th>city_ascii</th>\n",
       "      <th>lat</th>\n",
       "      <th>lng</th>\n",
       "      <th>pop</th>\n",
       "      <th>country</th>\n",
       "      <th>iso2</th>\n",
       "      <th>iso3</th>\n",
       "      <th>province</th>\n",
       "      <th>loc</th>\n",
       "    </tr>\n",
       "  </thead>\n",
       "  <tbody>\n",
       "    <tr>\n",
       "      <th>5841</th>\n",
       "      <td>New Taipei</td>\n",
       "      <td>New Taipei</td>\n",
       "      <td>25.012778</td>\n",
       "      <td>121.465000</td>\n",
       "      <td>2821870.0</td>\n",
       "      <td>Taiwan</td>\n",
       "      <td>TW</td>\n",
       "      <td>TWN</td>\n",
       "      <td>New Taipei City</td>\n",
       "      <td>New Taipei, Taiwan</td>\n",
       "    </tr>\n",
       "    <tr>\n",
       "      <th>5847</th>\n",
       "      <td>Taipei</td>\n",
       "      <td>Taipei</td>\n",
       "      <td>25.035833</td>\n",
       "      <td>121.568333</td>\n",
       "      <td>4759522.5</td>\n",
       "      <td>Taiwan</td>\n",
       "      <td>TW</td>\n",
       "      <td>TWN</td>\n",
       "      <td>Taipei City</td>\n",
       "      <td>Taipei, Taiwan</td>\n",
       "    </tr>\n",
       "  </tbody>\n",
       "</table>\n",
       "</div>"
      ],
      "text/plain": [
       "            city  city_ascii        lat         lng        pop country iso2  \\\n",
       "5841  New Taipei  New Taipei  25.012778  121.465000  2821870.0  Taiwan   TW   \n",
       "5847      Taipei      Taipei  25.035833  121.568333  4759522.5  Taiwan   TW   \n",
       "\n",
       "     iso3         province                 loc  \n",
       "5841  TWN  New Taipei City  New Taipei, Taiwan  \n",
       "5847  TWN      Taipei City      Taipei, Taiwan  "
      ]
     },
     "execution_count": 13,
     "metadata": {},
     "output_type": "execute_result"
    }
   ],
   "source": [
    "cities[cities['city'].str.contains('Taipei')]"
   ]
  },
  {
   "cell_type": "code",
   "execution_count": null,
   "metadata": {},
   "outputs": [],
   "source": [
    "# Import required libraries\n",
    "import os\n",
    "import copy\n",
    "from datetime import datetime, timedelta\n",
    "\n",
    "# Niumerical stuff\n",
    "import pandas as pd\n",
    "import xarray as xr\n",
    "from scipy.interpolate import griddata\n",
    "import numpy as np\n",
    "\n",
    "\n",
    "def get_subset(year, lat, lon):\n",
    "    '''\n",
    "    Function to get monthly average temperature with global coverage (0.25 x 0.25)\n",
    "    Source: ECMWF ERA5 dataset\n",
    "    Input: get_subset(year,lat,lon)\n",
    "    Output: average_temp, cooling_degree_day, heating_degree_day (in deg C)\n",
    "    '''\n",
    "    \n",
    "    # Get daily average temperature\n",
    "    T2 = xr.open_dataset('data/T2_monthly_mean_2017.nc')\n",
    "    average_temp = T2.sel(lat=lat, lon=lon % 360, method='nearest')\n",
    "    average_temp = average_temp.assign_coords(time=(pd.to_datetime(np.array(average_temp.time).astype(int).astype(str))))\n",
    "    \n",
    "#    cooling_degree_day = average_temp.where(average_temp > 18, 18) - 18\n",
    "#    heating_degree_day = 15 - average_temp.where(average_temp < 15, 15)\n",
    "\n",
    "    # Get winter and summer design temperature \n",
    "#    designT = pd.read_pickle('data/designT.pkl')\n",
    "#    x = designT['Long']\n",
    "#    y = designT['Lat']\n",
    "\n",
    "#    z1 = designT['WinterT']\n",
    "#    z2 = designT['SummerT']\n",
    "#    points = [(x, y) for x, y in zip(x, y)]\n",
    "\n",
    "#    winterT = griddata(points, z1, (lon, lat))\n",
    "#    summerT = griddata(points, z2, (lon, lat))\n",
    "    return None, None, average_temp.var167\n",
    "\n",
    "    "
   ]
  },
  {
   "cell_type": "code",
   "execution_count": 1,
   "metadata": {},
   "outputs": [
    {
     "ename": "NameError",
     "evalue": "name 'get_subset' is not defined",
     "traceback": [
      "\u001b[0;31m---------------------------------------------------------------------------\u001b[0m",
      "\u001b[0;31mNameError\u001b[0m                                 Traceback (most recent call last)",
      "\u001b[0;32m<ipython-input-1-5e9000a02bcb>\u001b[0m in \u001b[0;36m<module>\u001b[0;34m()\u001b[0m\n\u001b[0;32m----> 1\u001b[0;31m \u001b[0ma\u001b[0m\u001b[0;34m,\u001b[0m \u001b[0mb\u001b[0m\u001b[0;34m,\u001b[0m \u001b[0maveT\u001b[0m \u001b[0;34m=\u001b[0m \u001b[0mget_subset\u001b[0m\u001b[0;34m(\u001b[0m\u001b[0;36m2017\u001b[0m\u001b[0;34m,\u001b[0m\u001b[0;36m22\u001b[0m\u001b[0;34m,\u001b[0m\u001b[0;36m114\u001b[0m\u001b[0;34m)\u001b[0m\u001b[0;34m\u001b[0m\u001b[0m\n\u001b[0m",
      "\u001b[0;31mNameError\u001b[0m: name 'get_subset' is not defined"
     ],
     "output_type": "error"
    }
   ],
   "source": [
    "a, b, aveT = get_subset(2017,22,114)\n"
   ]
  },
  {
   "cell_type": "code",
   "execution_count": 137,
   "metadata": {},
   "outputs": [
    {
     "data": {
      "text/plain": [
       "302.1568603515625"
      ]
     },
     "execution_count": 137,
     "metadata": {},
     "output_type": "execute_result"
    }
   ],
   "source": [
    "float(max(aveT))"
   ]
  },
  {
   "cell_type": "code",
   "execution_count": 129,
   "metadata": {},
   "outputs": [
    {
     "name": "stderr",
     "output_type": "stream",
     "text": [
      "/home/joseph/anaconda3/lib/python3.6/site-packages/ipykernel_launcher.py:1: FutureWarning: iteration over an xarray.Dataset will change in xarray v0.11 to only include data variables, not coordinates. Iterate over the Dataset.variables property instead to preserve existing behavior in a forwards compatible manner.\n",
      "  \"\"\"Entry point for launching an IPython kernel.\n"
     ]
    },
    {
     "data": {
      "text/plain": [
       "'var167'"
      ]
     },
     "execution_count": 129,
     "metadata": {},
     "output_type": "execute_result"
    }
   ],
   "source": [
    "max(aveT.)"
   ]
  },
  {
   "cell_type": "code",
   "execution_count": 116,
   "metadata": {},
   "outputs": [
    {
     "data": {
      "text/plain": [
       "<xarray.DataArray 'var167' (time: 12)>\n",
       "array([0., 0., 0., 0., 0., 0., 0., 0., 0., 0., 0., 0.], dtype=float32)\n",
       "Coordinates:\n",
       "  * time     (time) datetime64[ns] 2017-01-16 2017-02-14 2017-03-16 ...\n",
       "    lon      float32 114.0\n",
       "    lat      float32 22.0"
      ]
     },
     "execution_count": 116,
     "metadata": {},
     "output_type": "execute_result"
    }
   ],
   "source": [
    "HDD.var167"
   ]
  },
  {
   "cell_type": "code",
   "execution_count": 69,
   "metadata": {},
   "outputs": [],
   "source": [
    "T2 = T2.assign_coords(time=(pd.to_datetime(np.array(T2.time).astype(int).astype(str))))"
   ]
  },
  {
   "cell_type": "code",
   "execution_count": 71,
   "metadata": {},
   "outputs": [],
   "source": [
    "T2.close()"
   ]
  },
  {
   "cell_type": "code",
   "execution_count": 76,
   "metadata": {},
   "outputs": [],
   "source": [
    "T2 = xr.open_dataset('data/T2_monthly_2017.nc')"
   ]
  },
  {
   "cell_type": "code",
   "execution_count": null,
   "metadata": {},
   "outputs": [],
   "source": []
  }
 ],
 "metadata": {
  "kernelspec": {
   "display_name": "Python 3",
   "language": "python",
   "name": "python3"
  },
  "language_info": {
   "codemirror_mode": {
    "name": "ipython",
    "version": 3
   },
   "file_extension": ".py",
   "mimetype": "text/x-python",
   "name": "python",
   "nbconvert_exporter": "python",
   "pygments_lexer": "ipython3",
   "version": "3.6.4"
  }
 },
 "nbformat": 4,
 "nbformat_minor": 2
}
