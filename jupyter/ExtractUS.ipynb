{
 "cells": [
  {
   "cell_type": "code",
   "execution_count": 2,
   "metadata": {},
   "outputs": [],
   "source": [
    "# For working with 2D array\n",
    "import pygrib\n",
    "import xarray as xr\n",
    "from cdo import *   # python version\n",
    "cdo = Cdo()\n",
    "\n",
    "from os import listdir\n",
    "from os.path import isfile, join\n",
    "\n",
    "# Location of weather files\n",
    "root_dir = os.path.join('/media/joseph/902E97B32E979138/ERA5_4v/')\n",
    "US_dir = os.path.join('/media/joseph/902E97B32E979138/CONUS/')\n",
    "\n",
    "years = [join(root_dir,d) for d in listdir(root_dir) if not isfile(join(root_dir, d))]    "
   ]
  },
  {
   "cell_type": "code",
   "execution_count": 3,
   "metadata": {},
   "outputs": [
    {
     "data": {
      "text/plain": [
       "['/media/joseph/902E97B32E979138/ERA5_4v/2014',\n",
       " '/media/joseph/902E97B32E979138/ERA5_4v/2015',\n",
       " '/media/joseph/902E97B32E979138/ERA5_4v/2016',\n",
       " '/media/joseph/902E97B32E979138/ERA5_4v/2017',\n",
       " '/media/joseph/902E97B32E979138/ERA5_4v/2018']"
      ]
     },
     "execution_count": 3,
     "metadata": {},
     "output_type": "execute_result"
    }
   ],
   "source": [
    "years"
   ]
  },
  {
   "cell_type": "code",
   "execution_count": 50,
   "metadata": {},
   "outputs": [],
   "source": [
    "def extract():\n",
    "    \n",
    "    for y in years:\n",
    "\n",
    "        # For each months\n",
    "        months = [join(y,m) for m in listdir(y) if not isfile(join(y, m))]\n",
    "\n",
    "        for m in months:\n",
    "            files = [join(m,f) for f in listdir(m) if isfile(join(m,f))]\n",
    "\n",
    "            for f in files:\n",
    "                date = f[-12:-4]\n",
    "                fname = join(US_dir,'CONUS_%s.grb'%date)\n",
    "                \n",
    "                if not isfile(fname):                \n",
    "                    #cdo.sellonlatbox('-127,-65,23,52', input=f, output='test.grb', options =  '-t ecmwf -f nc4 -b 16 -k grid -z zip_2 --reduce_dim')\n",
    "                    cdo.sellonlatbox('-127,-65,23,52', input=f, output=fname)                \n",
    "                \n",
    "    return None"
   ]
  },
  {
   "cell_type": "code",
   "execution_count": 51,
   "metadata": {},
   "outputs": [],
   "source": [
    "extract()"
   ]
  },
  {
   "cell_type": "code",
   "execution_count": null,
   "metadata": {},
   "outputs": [],
   "source": [
    "for i in tqdm(NA):\n",
    "    nc_output_file = os.path.join(root_directory,'%s_%04d_%03d.nc'%('test',year,i))\n",
    "\n",
    "    if not os.path.isfile(nc_output_file):\n",
    "        tmp_grb = cdo.cat(input = os.path.join(root_directory,'*/monthly_%04d??_%03d.grb'%(year,i)))\n",
    "        cdo.copy(input  =  tmp_grb,  output = nc_output_file, options =  '-t ecmwf -f nc4 -b 16 -k grid -z zip_2 --reduce_dim')   #temp file in netcdf format\n",
    "        os.remove(tmp_grb)"
   ]
  },
  {
   "cell_type": "code",
   "execution_count": 3,
   "metadata": {},
   "outputs": [
    {
     "name": "stdout",
     "output_type": "stream",
     "text": [
      "cdo copy: Processed 33852546 values from 1 variable over 1162 timesteps [2.55s 26MB]\n"
     ]
    }
   ],
   "source": [
    "!cdo -t ecmwf -f nc4 -b 16 -k grid -z zip_2 --reduce_dim copy data/dayavg_T2.grb data/dayavg_T2.nc"
   ]
  },
  {
   "cell_type": "code",
   "execution_count": null,
   "metadata": {},
   "outputs": [],
   "source": []
  }
 ],
 "metadata": {
  "kernelspec": {
   "display_name": "Python 3",
   "language": "python",
   "name": "python3"
  },
  "language_info": {
   "codemirror_mode": {
    "name": "ipython",
    "version": 3
   },
   "file_extension": ".py",
   "mimetype": "text/x-python",
   "name": "python",
   "nbconvert_exporter": "python",
   "pygments_lexer": "ipython3",
   "version": "3.6.4"
  }
 },
 "nbformat": 4,
 "nbformat_minor": 2
}
